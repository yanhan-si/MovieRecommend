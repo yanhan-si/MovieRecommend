{
 "cells": [
  {
   "cell_type": "markdown",
   "metadata": {
    "collapsed": true
   },
   "source": [
    "###  Moive Recommendation in Apache Spark\n",
    "In this notebook, we will use an Alternating Least Squares (ALS) algorithm with Spark APIs to predict the ratings for the movies in [MovieLens dataset](https://grouplens.org/datasets/movielens/latest/)\n",
    "\n",
    "This dataset (ml-latest) describes 5-star rating and free-text tagging activity from MovieLens, a movie recommendation service. It contains 27753444 ratings and 1108997 tag applications across 58098 movies. These data were created by 283228 users between January 09, 1995 and September 26, 2018. This dataset was generated on September 26, 2018.\n",
    "\n",
    "## Table of Contents\n",
    "I. [Data ETL and Data Exploration](#Data-ETL-and-Data-Exploration)<br>\n",
    "II. [Rank based approach](#Rank-based-approach)<br>\n",
    "III. [Spark ALS based approach](#Spark-ALS-based-approach)<br>\n",
    "IV. [Evaluation and Recommendation](#Evaluation-and-Recommendation)<br>"
   ]
  },
  {
   "cell_type": "code",
   "execution_count": null,
   "metadata": {},
   "outputs": [],
   "source": [
    "import numpy as np\n",
    "import pandas as pd\n",
    "import seaborn as sns\n",
    "import matplotlib.pyplot as plt\n",
    "import math\n",
    "from pyspark.sql import functions as F\n",
    "from pyspark.sql.types import IntegerType, FloatType\n",
    "%matplotlib inline"
   ]
  },
  {
   "cell_type": "raw",
   "metadata": {},
   "source": [
    "@hidden_cell\n",
    "# import datasets"
   ]
  },
  {
   "cell_type": "markdown",
   "metadata": {},
   "source": [
    "\n",
    "### <a class=\"anchor\" id=\"Data-ETL-and-Data-Exploration\">Part I : Data ETL and Data Exploration</a>"
   ]
  },
  {
   "cell_type": "code",
   "execution_count": 3,
   "metadata": {},
   "outputs": [
    {
     "name": "stdout",
     "output_type": "stream",
     "text": [
      "+------+-------+------+----------+\n",
      "|userId|movieId|rating| timestamp|\n",
      "+------+-------+------+----------+\n",
      "|     1|    307|   3.5|1256677221|\n",
      "|     1|    481|   3.5|1256677456|\n",
      "|     1|   1091|   1.5|1256677471|\n",
      "|     1|   1257|   4.5|1256677460|\n",
      "|     1|   1449|   4.5|1256677264|\n",
      "+------+-------+------+----------+\n",
      "only showing top 5 rows\n",
      "\n"
     ]
    }
   ],
   "source": [
    "# Ratings are made on a 5-star scale, with half-star increments (0.5 stars - 5.0 stars).\n",
    "\n",
    "# Timestamps represent seconds since midnight Coordinated Universal Time (UTC) of January 1, 1970.\n",
    "\n",
    "ratings_df.show(5) "
   ]
  },
  {
   "cell_type": "code",
   "execution_count": 5,
   "metadata": {},
   "outputs": [
    {
     "name": "stdout",
     "output_type": "stream",
     "text": [
      "+-------+----------------------------------+-------------------------------------------+\n",
      "|movieId|title                             |genres                                     |\n",
      "+-------+----------------------------------+-------------------------------------------+\n",
      "|1      |Toy Story (1995)                  |Adventure|Animation|Children|Comedy|Fantasy|\n",
      "|2      |Jumanji (1995)                    |Adventure|Children|Fantasy                 |\n",
      "|3      |Grumpier Old Men (1995)           |Comedy|Romance                             |\n",
      "|4      |Waiting to Exhale (1995)          |Comedy|Drama|Romance                       |\n",
      "|5      |Father of the Bride Part II (1995)|Comedy                                     |\n",
      "+-------+----------------------------------+-------------------------------------------+\n",
      "only showing top 5 rows\n",
      "\n"
     ]
    }
   ],
   "source": [
    "movies_df.show(5, False) # Genres are a pipe-separated list"
   ]
  },
  {
   "cell_type": "code",
   "execution_count": 5,
   "metadata": {},
   "outputs": [
    {
     "name": "stdout",
     "output_type": "stream",
     "text": [
      "+-------+-------+------+\n",
      "|movieId| imdbId|tmdbId|\n",
      "+-------+-------+------+\n",
      "|      1|0114709|   862|\n",
      "|      2|0113497|  8844|\n",
      "|      3|0113228| 15602|\n",
      "|      4|0114885| 31357|\n",
      "|      5|0113041| 11862|\n",
      "+-------+-------+------+\n",
      "only showing top 5 rows\n",
      "\n"
     ]
    }
   ],
   "source": [
    "links_df.show(5)"
   ]
  },
  {
   "cell_type": "markdown",
   "metadata": {},
   "source": [
    "Identifiers that can be used to link to other sources of movie data are contained in the file links.csv. Each line of this file after the header row represents one movie.\n",
    "\n",
    "movieId is an identifier for movies used by https://movielens.org. E.g., the movie Toy Story has the link https://movielens.org/movies/1.\n",
    "\n",
    "imdbId is an identifier for movies used by http://www.imdb.com. E.g., the movie Toy Story has the link http://www.imdb.com/title/tt0114709/.\n",
    "\n",
    "tmdbId is an identifier for movies used by https://www.themoviedb.org. E.g., the movie Toy Story has the link https://www.themoviedb.org/movie/862."
   ]
  },
  {
   "cell_type": "code",
   "execution_count": 6,
   "metadata": {},
   "outputs": [
    {
     "name": "stdout",
     "output_type": "stream",
     "text": [
      "+------+-------+------------+----------+\n",
      "|userId|movieId|         tag| timestamp|\n",
      "+------+-------+------------+----------+\n",
      "|    14|    110|        epic|1443148538|\n",
      "|    14|    110|    Medieval|1443148532|\n",
      "|    14|    260|      sci-fi|1442169410|\n",
      "|    14|    260|space action|1442169421|\n",
      "|    14|    318|imdb top 250|1442615195|\n",
      "+------+-------+------------+----------+\n",
      "only showing top 5 rows\n",
      "\n"
     ]
    }
   ],
   "source": [
    "tags_df.show(5)"
   ]
  },
  {
   "cell_type": "markdown",
   "metadata": {},
   "source": [
    "The lines within Tags Data File are ordered first by userId, then, within user, by movieId.\n",
    "\n",
    "Tags are user-generated metadata about movies. Each tag is typically a single word or short phrase. The meaning, value, and purpose of a particular tag is determined by each user.\n",
    "\n",
    "Timestamps represent seconds since midnight Coordinated Universal Time (UTC) of January 1, 1970."
   ]
  },
  {
   "cell_type": "code",
   "execution_count": 6,
   "metadata": {},
   "outputs": [
    {
     "data": {
      "text/plain": [
       "DataFrame[userId: string, movieId: string, rating: string, timestamp: string]"
      ]
     },
     "execution_count": 6,
     "metadata": {},
     "output_type": "execute_result"
    }
   ],
   "source": [
    "ratings_df.cache()"
   ]
  },
  {
   "cell_type": "code",
   "execution_count": 7,
   "metadata": {},
   "outputs": [
    {
     "data": {
      "text/plain": [
       "DataFrame[movieId: string, title: string, genres: string]"
      ]
     },
     "execution_count": 7,
     "metadata": {},
     "output_type": "execute_result"
    }
   ],
   "source": [
    "movies_df.cache()"
   ]
  },
  {
   "cell_type": "code",
   "execution_count": 8,
   "metadata": {},
   "outputs": [
    {
     "data": {
      "text/plain": [
       "27753444"
      ]
     },
     "execution_count": 8,
     "metadata": {},
     "output_type": "execute_result"
    }
   ],
   "source": [
    "ratings_df.count()"
   ]
  },
  {
   "cell_type": "markdown",
   "metadata": {},
   "source": []
  },
  {
   "cell_type": "markdown",
   "metadata": {},
   "source": [
    "### ratings dataframe"
   ]
  },
  {
   "cell_type": "code",
   "execution_count": 11,
   "metadata": {},
   "outputs": [
    {
     "name": "stdout",
     "output_type": "stream",
     "text": [
      "For the users that rated movies and the movies that were rated:\n",
      "Minimum number of ratings per user is 1\n",
      "Minimum number of ratings per movie is 1\n"
     ]
    }
   ],
   "source": [
    "min_user_rating = ratings_df.groupBy(\"userID\").count().toPandas()['count'].min()\n",
    "min_movie_rating = ratings_df.groupBy(\"movieId\").count().toPandas()['count'].min()\n",
    "print('For the users that rated movies and the movies that were rated:')\n",
    "print('Minimum number of ratings per user is {}'.format(min_user_rating))\n",
    "print('Minimum number of ratings per movie is {}'.format(min_movie_rating))"
   ]
  },
  {
   "cell_type": "markdown",
   "metadata": {},
   "source": [
    "In this dataset, every user gives at least one rating and every movie receives at least one rating."
   ]
  },
  {
   "cell_type": "code",
   "execution_count": 12,
   "metadata": {},
   "outputs": [
    {
     "name": "stdout",
     "output_type": "stream",
     "text": [
      "10155 out of 53889 movies are rated by only one user (18.84 %).\n"
     ]
    }
   ],
   "source": [
    "least_pop_movie = (ratings_df.groupBy(\"movieId\").count().toPandas()['count'] == 1).sum()\n",
    "total_movie_count = ratings_df.select('movieId').distinct().count()\n",
    "print('{} out of {} movies are rated by only one user ({:.2f} %).'.format(least_pop_movie, total_movie_count, least_pop_movie / total_movie_count * 100))"
   ]
  },
  {
   "cell_type": "code",
   "execution_count": 13,
   "metadata": {},
   "outputs": [],
   "source": [
    "# user statistics\n",
    "user_result = ratings_df.groupBy(\"userId\").count().orderBy('count', ascending=False)"
   ]
  },
  {
   "cell_type": "code",
   "execution_count": 16,
   "metadata": {},
   "outputs": [
    {
     "name": "stdout",
     "output_type": "stream",
     "text": [
      "+------+-----+\n",
      "|userId|count|\n",
      "+------+-----+\n",
      "|123100|23715|\n",
      "|117490| 9279|\n",
      "|134596| 8381|\n",
      "|212343| 7884|\n",
      "|242683| 7515|\n",
      "|111908| 6645|\n",
      "| 77609| 6398|\n",
      "| 63783| 6346|\n",
      "|172357| 5868|\n",
      "|141955| 5810|\n",
      "|158002| 5701|\n",
      "|253511| 5356|\n",
      "| 48470| 5257|\n",
      "|183233| 5169|\n",
      "| 94843| 5130|\n",
      "| 73145| 5042|\n",
      "| 37046| 5041|\n",
      "|187986| 4951|\n",
      "|  4796| 4874|\n",
      "|236981| 4854|\n",
      "+------+-----+\n",
      "only showing top 20 rows\n",
      "\n"
     ]
    }
   ],
   "source": [
    "user_result.show(20)"
   ]
  },
  {
   "cell_type": "markdown",
   "metadata": {},
   "source": [
    "The most active user rated 23715 movies."
   ]
  },
  {
   "cell_type": "code",
   "execution_count": 24,
   "metadata": {},
   "outputs": [
    {
     "data": {
      "text/plain": [
       "Text(0.5, 1.0, 'Distribution of the Number of Ratings (Per User)')"
      ]
     },
     "execution_count": 24,
     "metadata": {},
     "output_type": "execute_result"
    },
    {
     "data": {
      "image/png": "[encoded data removed]",
      "text/plain": [
       "<Figure size 432x288 with 1 Axes>"
      ]
     },
     "metadata": {
      "needs_background": "light"
     },
     "output_type": "display_data"
    }
   ],
   "source": [
    "sns.distplot(user_result.toPandas()['count'], hist=True,kde=True, bins=30,hist_kws={\"linewidth\": 3, \"alpha\": 1, \"color\": \"g\"})\n",
    "plt.ylabel('Percentage')\n",
    "plt.xlabel('# of ratings')\n",
    "plt.xlim(0,5000)\n",
    "plt.title('Distribution of the Number of Ratings (Per User)')"
   ]
  },
  {
   "cell_type": "code",
   "execution_count": 19,
   "metadata": {},
   "outputs": [
    {
     "name": "stdout",
     "output_type": "stream",
     "text": [
      "+-------+------------------+\n",
      "|summary|             count|\n",
      "+-------+------------------+\n",
      "|  count|            283228|\n",
      "|   mean| 97.98976089934611|\n",
      "| stddev|212.76072227567462|\n",
      "|    min|                 1|\n",
      "|    max|             23715|\n",
      "+-------+------------------+\n",
      "\n"
     ]
    }
   ],
   "source": [
    "# Summary statistic of the user rating dataframe\n",
    "user_result.describe(['count']).show()"
   ]
  },
  {
   "cell_type": "code",
   "execution_count": 25,
   "metadata": {},
   "outputs": [],
   "source": [
    "# movie statistics\n",
    "movie_result = ratings_df.groupBy(\"movieId\").count().orderBy('count', ascending=False)"
   ]
  },
  {
   "cell_type": "code",
   "execution_count": 23,
   "metadata": {},
   "outputs": [
    {
     "name": "stdout",
     "output_type": "stream",
     "text": [
      "+-------+-----------------+\n",
      "|summary|            count|\n",
      "+-------+-----------------+\n",
      "|  count|            53889|\n",
      "|   mean|515.0113010076268|\n",
      "| stddev|2934.758938915588|\n",
      "|    min|                1|\n",
      "|    max|            97999|\n",
      "+-------+-----------------+\n",
      "\n"
     ]
    }
   ],
   "source": [
    "movie_result.describe(['count']).show()"
   ]
  },
  {
   "cell_type": "markdown",
   "metadata": {},
   "source": [
    "The most popular movie has mean rating for 97999. The mean is about 515."
   ]
  },
  {
   "cell_type": "code",
   "execution_count": 26,
   "metadata": {},
   "outputs": [
    {
     "name": "stdout",
     "output_type": "stream",
     "text": [
      "+-------+-----+\n",
      "|movieId|count|\n",
      "+-------+-----+\n",
      "|    318|97999|\n",
      "|    356|97040|\n",
      "|    296|92406|\n",
      "|    593|87899|\n",
      "|   2571|84545|\n",
      "|    260|81815|\n",
      "|    480|76451|\n",
      "|    527|71516|\n",
      "|    110|68803|\n",
      "|      1|68469|\n",
      "|   1210|66023|\n",
      "|   1196|65822|\n",
      "|   2959|65678|\n",
      "|    589|64258|\n",
      "|   1198|63505|\n",
      "|     50|62180|\n",
      "|   4993|61883|\n",
      "|    858|60904|\n",
      "|   2858|60820|\n",
      "|    780|58949|\n",
      "+-------+-----+\n",
      "only showing top 20 rows\n",
      "\n"
     ]
    }
   ],
   "source": [
    "movie_result.show()"
   ]
  },
  {
   "cell_type": "code",
   "execution_count": 27,
   "metadata": {},
   "outputs": [
    {
     "data": {
      "text/plain": [
       "Text(0.5, 1.0, 'Distribution of # of Ratings (Per Movie)')"
      ]
     },
     "execution_count": 27,
     "metadata": {},
     "output_type": "execute_result"
    },
    {
     "data": {
      "image/png": "[encoded data removed]",
      "text/plain": [
       "<Figure size 432x288 with 1 Axes>"
      ]
     },
     "metadata": {
      "needs_background": "light"
     },
     "output_type": "display_data"
    }
   ],
   "source": [
    "sns.distplot(movie_result.toPandas()['count'], color = 'burlywood', hist=True)\n",
    "plt.ylabel('Percentage')\n",
    "plt.xlabel('# of Ratings')\n",
    "plt.xlim(0,20000)\n",
    "plt.title('Distribution of # of Ratings (Per Movie)')"
   ]
  },
  {
   "cell_type": "markdown",
   "metadata": {},
   "source": [
    "### movie dataframe"
   ]
  },
  {
   "cell_type": "code",
   "execution_count": 29,
   "metadata": {},
   "outputs": [
    {
     "name": "stdout",
     "output_type": "stream",
     "text": [
      "+-------+----------------+-------------------------------------------+\n",
      "|movieId|title           |genres                                     |\n",
      "+-------+----------------+-------------------------------------------+\n",
      "|1      |Toy Story (1995)|Adventure|Animation|Children|Comedy|Fantasy|\n",
      "|2      |Jumanji (1995)  |Adventure|Children|Fantasy                 |\n",
      "+-------+----------------+-------------------------------------------+\n",
      "only showing top 2 rows\n",
      "\n"
     ]
    }
   ],
   "source": [
    "movies_df.show(2, False)"
   ]
  },
  {
   "cell_type": "code",
   "execution_count": 30,
   "metadata": {},
   "outputs": [
    {
     "data": {
      "text/plain": [
       "58098"
      ]
     },
     "execution_count": 30,
     "metadata": {},
     "output_type": "execute_result"
    }
   ],
   "source": [
    "movies_df.count()"
   ]
  },
  {
   "cell_type": "code",
   "execution_count": 40,
   "metadata": {},
   "outputs": [
    {
     "name": "stdout",
     "output_type": "stream",
     "text": [
      "+----------------+--------------------+\n",
      "|           title|              genres|\n",
      "+----------------+--------------------+\n",
      "|Toy Story (1995)|[Adventure, Anima...|\n",
      "+----------------+--------------------+\n",
      "\n"
     ]
    }
   ],
   "source": [
    "movies_df.where('movieId ==1').select('title',F.split('genres', '\\|').alias('genres')).show()"
   ]
  },
  {
   "cell_type": "code",
   "execution_count": 42,
   "metadata": {},
   "outputs": [],
   "source": [
    "# Split genres into multiple rows\n",
    "movie_genres_df = movies_df.where('genres is not null').select('title', F.explode(F.split('genres', '\\|')).alias('genres'))\n",
    "movie_genres_result = movie_genres_df.groupBy('genres').count().orderBy('count', ascending=False)"
   ]
  },
  {
   "cell_type": "code",
   "execution_count": 44,
   "metadata": {},
   "outputs": [
    {
     "name": "stdout",
     "output_type": "stream",
     "text": [
      "+-------+-----------------+\n",
      "|summary|            count|\n",
      "+-------+-----------------+\n",
      "|  count|               20|\n",
      "|   mean|          5305.35|\n",
      "| stddev|5682.363206263282|\n",
      "|    min|              197|\n",
      "|    max|            24144|\n",
      "+-------+-----------------+\n",
      "\n"
     ]
    }
   ],
   "source": [
    "movie_genres_result.describe(['count']).show()"
   ]
  },
  {
   "cell_type": "code",
   "execution_count": 43,
   "metadata": {},
   "outputs": [
    {
     "data": {
      "text/plain": [
       "Text(0.5, 1.0, 'Number of Movies in Category')"
      ]
     },
     "execution_count": 43,
     "metadata": {},
     "output_type": "execute_result"
    },
    {
     "data": {
      "image/png": "[encoded data removed]",
      "text/plain": [
       "<Figure size 4320x720 with 1 Axes>"
      ]
     },
     "metadata": {
      "needs_background": "light"
     },
     "output_type": "display_data"
    }
   ],
   "source": [
    "plt.figure(figsize=(60,10))\n",
    "sns.barplot(x='genres', y='count', data=movie_genres_result.toPandas())\n",
    "plt.title('Number of Movies in Category')"
   ]
  },
  {
   "cell_type": "code",
   "execution_count": null,
   "metadata": {},
   "outputs": [],
   "source": []
  },
  {
   "cell_type": "markdown",
   "metadata": {},
   "source": [
    "### Data processing"
   ]
  },
  {
   "cell_type": "code",
   "execution_count": 45,
   "metadata": {},
   "outputs": [],
   "source": [
    "# drop the datetime columns\n",
    "# convert to numerical data type\n",
    "movie_ratings = ratings_df.drop('timestamp')\n",
    "movie_ratings = movie_ratings.withColumn(\"userId\", movie_ratings[\"userId\"].cast(IntegerType()))\n",
    "movie_ratings = movie_ratings.withColumn(\"movieId\", movie_ratings[\"movieId\"].cast(IntegerType()))\n",
    "movie_ratings = movie_ratings.withColumn(\"rating\", movie_ratings[\"rating\"].cast(FloatType()))"
   ]
  },
  {
   "cell_type": "code",
   "execution_count": 46,
   "metadata": {},
   "outputs": [
    {
     "name": "stdout",
     "output_type": "stream",
     "text": [
      "+------+-------+------+\n",
      "|userId|movieId|rating|\n",
      "+------+-------+------+\n",
      "|     1|    307|   3.5|\n",
      "|     1|    481|   3.5|\n",
      "|     1|   1091|   1.5|\n",
      "|     1|   1257|   4.5|\n",
      "|     1|   1449|   4.5|\n",
      "|     1|   1590|   2.5|\n",
      "|     1|   1591|   1.5|\n",
      "|     1|   2134|   4.5|\n",
      "|     1|   2478|   4.0|\n",
      "|     1|   2840|   3.0|\n",
      "|     1|   2986|   2.5|\n",
      "|     1|   3020|   4.0|\n",
      "|     1|   3424|   4.5|\n",
      "|     1|   3698|   3.5|\n",
      "|     1|   3826|   2.0|\n",
      "|     1|   3893|   3.5|\n",
      "|     2|    170|   3.5|\n",
      "|     2|    849|   3.5|\n",
      "|     2|   1186|   3.5|\n",
      "|     2|   1235|   3.0|\n",
      "+------+-------+------+\n",
      "only showing top 20 rows\n",
      "\n"
     ]
    }
   ],
   "source": [
    "movie_ratings.show()"
   ]
  },
  {
   "cell_type": "markdown",
   "metadata": {},
   "source": [
    "### <a class=\"anchor\" id=\"Rank-based-approach\">Part II : Rank based approach</a>"
   ]
  },
  {
   "cell_type": "code",
   "execution_count": 57,
   "metadata": {},
   "outputs": [
    {
     "name": "stdout",
     "output_type": "stream",
     "text": [
      "+-------+------------------+-----+\n",
      "|movieId|        MeanRating|Count|\n",
      "+-------+------------------+-----+\n",
      "|    318| 4.424188001918387|97999|\n",
      "|    356| 4.056584913437757|97040|\n",
      "|    296| 4.173971387139363|92406|\n",
      "|    593|  4.15141241652351|87899|\n",
      "|   2571| 4.149695428470046|84545|\n",
      "|    260| 4.120454684348836|81815|\n",
      "|    480|3.6650338125073576|76451|\n",
      "|    527| 4.257501817775044|71516|\n",
      "|    110| 4.008480734851678|68803|\n",
      "|      1|3.8866494325899312|68469|\n",
      "+-------+------------------+-----+\n",
      "only showing top 10 rows\n",
      "\n"
     ]
    }
   ],
   "source": [
    "def get_top_movies(n = 10, df = movie_ratings):\n",
    "    '''\n",
    "    INPUT:\n",
    "    n - (int) the number of top movies to return\n",
    "    df - (spark dataframe) df containing the movie ratings\n",
    "    \n",
    "    OUTPUT:\n",
    "    top_movies - (df) A df of the top 'n' movies based on the rating counts and average rating \n",
    "    return top_movieIds\n",
    "    '''\n",
    "    # create a temperal \n",
    "    movie_ratings.createOrReplaceTempView(\"movie_ratings\")\n",
    "    \n",
    "    top_movies = spark.sql(\"\"\"SELECT movieId, mean(rating) AS MeanRating, count(rating) AS Count\n",
    "    FROM movie_ratings\n",
    "    GROUP BY movieId\n",
    "    ORDER BY Count DESC, MeanRating DESC\n",
    "    \"\"\")\n",
    "    \n",
    "    top_movies.show(n)\n",
    "    return \n",
    "\n",
    "get_top_movies()"
   ]
  },
  {
   "cell_type": "markdown",
   "metadata": {},
   "source": [
    "### <a class=\"anchor\" id=\"Spark-ALS-based-approach\">Part III : Spark ALS based approach</a>"
   ]
  },
  {
   "cell_type": "code",
   "execution_count": 65,
   "metadata": {},
   "outputs": [],
   "source": [
    "# import package\n",
    "from pyspark.ml.evaluation import RegressionEvaluator\n",
    "from pyspark.ml.recommendation import ALS\n",
    "from pyspark.ml.tuning import CrossValidator,ParamGridBuilder"
   ]
  },
  {
   "cell_type": "code",
   "execution_count": 60,
   "metadata": {},
   "outputs": [],
   "source": [
    "# Create test and train set\n",
    "train, test = movie_ratings.randomSplit([0.8,0.2], seed=42)"
   ]
  },
  {
   "cell_type": "code",
   "execution_count": 61,
   "metadata": {},
   "outputs": [
    {
     "name": "stdout",
     "output_type": "stream",
     "text": [
      "+------+-------+------+\n",
      "|userId|movieId|rating|\n",
      "+------+-------+------+\n",
      "|     1|    307|   3.5|\n",
      "|     1|   1449|   4.5|\n",
      "+------+-------+------+\n",
      "only showing top 2 rows\n",
      "\n"
     ]
    }
   ],
   "source": [
    "train.show(2)"
   ]
  },
  {
   "cell_type": "markdown",
   "metadata": {},
   "source": [
    "### Build ALS model"
   ]
  },
  {
   "cell_type": "code",
   "execution_count": 63,
   "metadata": {},
   "outputs": [],
   "source": [
    "#Create ALS model\n",
    "MR_ALS = ALS(userCol=\"userId\", itemCol=\"movieId\", ratingCol=\"rating\", coldStartStrategy=\"drop\")"
   ]
  },
  {
   "cell_type": "code",
   "execution_count": 20,
   "metadata": {},
   "outputs": [],
   "source": [
    "#Tune model using ParamGridBuilder\n",
    "paramGrid = ParamGridBuilder()\\\n",
    "            .addGrid(als.regParam, [0.3, 0.01, 0.001])\\\n",
    "            .addGrid(als.maxIter, [3, 5, 10])\\\n",
    "            .addGrid(als.rank, [4, 10, 15])\\\n",
    "            .build()"
   ]
  },
  {
   "cell_type": "code",
   "execution_count": 21,
   "metadata": {},
   "outputs": [],
   "source": [
    "# Build Cross validation \n",
    "crossval = CrossValidator(estimator=MR_ALS,\n",
    "                        estimatorParamMaps=paramgrid,\n",
    "                        evaluator=RMSE_evaluator,\n",
    "                        numFolds=5, collectSubModels=True, seed=1)"
   ]
  },
  {
   "cell_type": "code",
   "execution_count": null,
   "metadata": {},
   "outputs": [
    {
     "name": "stdout",
     "output_type": "stream",
     "text": [
      "**Best Model**\n",
      " Rank:4\n",
      " MaxIter:5\n",
      " RegParam:0.3\n"
     ]
    }
   ],
   "source": [
    "# Fit ALS model to training data\n",
    "cv_model = crossval.fit(training)\n",
    "\n",
    "# Choose best model from the tuning exercise using ParamGridBuilder\n",
    "best_model = cv_model.bestModel\n",
    "\n",
    "# Print best model parameters\n",
    "print (\"**Best Model**\")\n",
    "print (\" Rank:\"+str(best_model.rank))\n",
    "print (\" MaxIter:\"+str(best_model._java_obj.parent().getMaxIter()))\n",
    "print (\" RegParam:\"+str(best_model._java_obj.parent().getRegParam()))"
   ]
  },
  {
   "cell_type": "code",
   "execution_count": 66,
   "metadata": {},
   "outputs": [],
   "source": [
    "MR_ALS = ALS(maxIter=10, regParam=0.01, rank=5,userCol=\"userId\", itemCol=\"movieId\", ratingCol=\"rating\", coldStartStrategy=\"drop\")\n",
    "best_model = MR_ALS.fit(train)"
   ]
  },
  {
   "cell_type": "markdown",
   "metadata": {},
   "source": [
    "### <a class=\"anchor\" id=\"Evaluation-and-Recommendation\">Part IV : Evaluation and Recommendation</a>"
   ]
  },
  {
   "cell_type": "code",
   "execution_count": 68,
   "metadata": {},
   "outputs": [],
   "source": [
    "#Define evaluator as RMSE\n",
    "RMSE_evaluator = RegressionEvaluator(metricName=\"rmse\",\n",
    "                                     labelCol=\"rating\",\n",
    "                                     predictionCol=\"prediction\")"
   ]
  },
  {
   "cell_type": "code",
   "execution_count": 69,
   "metadata": {},
   "outputs": [
    {
     "name": "stdout",
     "output_type": "stream",
     "text": [
      "RMSE = 0.8314300775468315\n"
     ]
    }
   ],
   "source": [
    "#Generate predictions and evaluate using RMSE\n",
    "als_predictions = best_model.transform(test)\n",
    "rmse = RMSE_evaluator.evaluate(als_predictions)\n",
    "print (\"RMSE = \"+str(rmse))"
   ]
  },
  {
   "cell_type": "code",
   "execution_count": 77,
   "metadata": {},
   "outputs": [
    {
     "name": "stdout",
     "output_type": "stream",
     "text": [
      "+------+-------+------+----------+\n",
      "|userId|movieId|rating|prediction|\n",
      "+------+-------+------+----------+\n",
      "|207939|    148|   3.0|  2.826645|\n",
      "|211963|    148|   3.0| 2.1964748|\n",
      "+------+-------+------+----------+\n",
      "only showing top 2 rows\n",
      "\n"
     ]
    }
   ],
   "source": [
    "als_predictions.show(2)"
   ]
  },
  {
   "cell_type": "markdown",
   "metadata": {},
   "source": [
    "### Make Recommendation"
   ]
  },
  {
   "cell_type": "code",
   "execution_count": 73,
   "metadata": {},
   "outputs": [
    {
     "name": "stdout",
     "output_type": "stream",
     "text": [
      "+------+--------------------+\n",
      "|userId|     recommendations|\n",
      "+------+--------------------+\n",
      "|117490|[[175695, 19.6926...|\n",
      "+------+--------------------+\n",
      "\n"
     ]
    }
   ],
   "source": [
    "userRecs = best_model.recommendForAllUsers(10)"
   ]
  },
  {
   "cell_type": "code",
   "execution_count": 79,
   "metadata": {},
   "outputs": [
    {
     "data": {
      "text/plain": [
       "DataFrame[userId: int, recommendations: array<struct<movieId:int,rating:float>>]"
      ]
     },
     "execution_count": 79,
     "metadata": {},
     "output_type": "execute_result"
    }
   ],
   "source": [
    "userRecs.cache()"
   ]
  },
  {
   "cell_type": "code",
   "execution_count": 81,
   "metadata": {},
   "outputs": [
    {
     "data": {
      "text/plain": [
       "[Row(userId=148, recommendations=[Row(movieId=175695, rating=19.769142150878906), Row(movieId=189357, rating=11.550963401794434), Row(movieId=149450, rating=11.218317031860352), Row(movieId=113911, rating=10.895706176757812), Row(movieId=174817, rating=10.706464767456055), Row(movieId=86756, rating=10.624656677246094), Row(movieId=130042, rating=10.578539848327637), Row(movieId=140351, rating=10.490724563598633), Row(movieId=170113, rating=10.451828002929688), Row(movieId=127232, rating=10.266918182373047)])]"
      ]
     },
     "execution_count": 81,
     "metadata": {},
     "output_type": "execute_result"
    }
   ],
   "source": [
    "userRecs.take(1)"
   ]
  },
  {
   "cell_type": "markdown",
   "metadata": {},
   "source": [
    "## Get recommendations for user 1548"
   ]
  },
  {
   "cell_type": "code",
   "execution_count": 136,
   "metadata": {},
   "outputs": [
    {
     "name": "stdout",
     "output_type": "stream",
     "text": [
      "+------+---------------------------------------------------------------------------------------------------------------------------------------------------------------------------------------------------------+\n",
      "|userId|recommendations                                                                                                                                                                                          |\n",
      "+------+---------------------------------------------------------------------------------------------------------------------------------------------------------------------------------------------------------+\n",
      "|1548  |[[79236, 22.115822], [133203, 21.927502], [183161, 20.63221], [120823, 20.15322], [171793, 20.013021], [84641, 19.370874], [97971, 19.22908], [96894, 18.83315], [143359, 18.814335], [179783, 18.70668]]|\n",
      "+------+---------------------------------------------------------------------------------------------------------------------------------------------------------------------------------------------------------+\n",
      "\n"
     ]
    }
   ],
   "source": [
    "userRecs.filter(userRecs.userId == 1548).show(truncate=False)"
   ]
  },
  {
   "cell_type": "code",
   "execution_count": 137,
   "metadata": {},
   "outputs": [],
   "source": [
    "user_recommendation = userRecs.toPandas()"
   ]
  },
  {
   "cell_type": "code",
   "execution_count": 138,
   "metadata": {},
   "outputs": [],
   "source": [
    "movies_pd = movies_df.toPandas()"
   ]
  },
  {
   "cell_type": "code",
   "execution_count": 139,
   "metadata": {},
   "outputs": [],
   "source": [
    "movies_pd['movieId'] = movies_pd.movieId.astype('int64')"
   ]
  },
  {
   "cell_type": "code",
   "execution_count": 148,
   "metadata": {},
   "outputs": [],
   "source": [
    "def movie_recommendation(user_recommendation, userId, movies_pd):\n",
    "    try:\n",
    "        rec_movieId = []\n",
    "        for item in user_recommendation.loc[user_recommendation['userId'] == userId,'recommendations'].values[0]:\n",
    "            rec_movieId.append(item[0])\n",
    "        return movies_pd.loc[movies_pd.movieId.isin(rec_movieId)]\n",
    "    except:\n",
    "        raise KeyError(\"userId doesn't exist!\")"
   ]
  },
  {
   "cell_type": "code",
   "execution_count": 150,
   "metadata": {},
   "outputs": [
    {
     "data": {
      "text/html": [
       "<div>\n",
       "<style scoped>\n",
       "    .dataframe tbody tr th:only-of-type {\n",
       "        vertical-align: middle;\n",
       "    }\n",
       "\n",
       "    .dataframe tbody tr th {\n",
       "        vertical-align: top;\n",
       "    }\n",
       "\n",
       "    .dataframe thead th {\n",
       "        text-align: right;\n",
       "    }\n",
       "</style>\n",
       "<table border=\"1\" class=\"dataframe\">\n",
       "  <thead>\n",
       "    <tr style=\"text-align: right;\">\n",
       "      <th></th>\n",
       "      <th>movieId</th>\n",
       "      <th>title</th>\n",
       "      <th>genres</th>\n",
       "    </tr>\n",
       "  </thead>\n",
       "  <tbody>\n",
       "    <tr>\n",
       "      <th>15630</th>\n",
       "      <td>79236</td>\n",
       "      <td>Yumeji (1991)</td>\n",
       "      <td>Drama|Fantasy</td>\n",
       "    </tr>\n",
       "    <tr>\n",
       "      <th>16829</th>\n",
       "      <td>84641</td>\n",
       "      <td>Skippy (1931)</td>\n",
       "      <td>Comedy|Drama</td>\n",
       "    </tr>\n",
       "    <tr>\n",
       "      <th>19711</th>\n",
       "      <td>96894</td>\n",
       "      <td>One Nine Nine Four (2009)</td>\n",
       "      <td>Documentary</td>\n",
       "    </tr>\n",
       "    <tr>\n",
       "      <th>19983</th>\n",
       "      <td>97971</td>\n",
       "      <td>Rosencrantz and Guildenstern Are Undead (2009)</td>\n",
       "      <td>Comedy|Horror</td>\n",
       "    </tr>\n",
       "    <tr>\n",
       "      <th>26655</th>\n",
       "      <td>120823</td>\n",
       "      <td>One Bright Shining Moment (2005)</td>\n",
       "      <td>Documentary</td>\n",
       "    </tr>\n",
       "    <tr>\n",
       "      <th>31571</th>\n",
       "      <td>133203</td>\n",
       "      <td>Doug Stanhope: Oslo - Burning the Bridge to No...</td>\n",
       "      <td>Comedy</td>\n",
       "    </tr>\n",
       "    <tr>\n",
       "      <th>35910</th>\n",
       "      <td>143359</td>\n",
       "      <td>Sly Cooper (2016)</td>\n",
       "      <td>Action|Adventure|Animation|Children|Comedy</td>\n",
       "    </tr>\n",
       "    <tr>\n",
       "      <th>48312</th>\n",
       "      <td>171793</td>\n",
       "      <td>Innocence Unprotected (1968)</td>\n",
       "      <td>Documentary|Drama</td>\n",
       "    </tr>\n",
       "    <tr>\n",
       "      <th>51989</th>\n",
       "      <td>179783</td>\n",
       "      <td>Let There Be Light (2017)</td>\n",
       "      <td>(no genres listed)</td>\n",
       "    </tr>\n",
       "    <tr>\n",
       "      <th>53506</th>\n",
       "      <td>183161</td>\n",
       "      <td>Journeyman (2018)</td>\n",
       "      <td>Drama</td>\n",
       "    </tr>\n",
       "  </tbody>\n",
       "</table>\n",
       "</div>"
      ],
      "text/plain": [
       "       movieId                                              title  \\\n",
       "15630    79236                                      Yumeji (1991)   \n",
       "16829    84641                                      Skippy (1931)   \n",
       "19711    96894                          One Nine Nine Four (2009)   \n",
       "19983    97971     Rosencrantz and Guildenstern Are Undead (2009)   \n",
       "26655   120823                   One Bright Shining Moment (2005)   \n",
       "31571   133203  Doug Stanhope: Oslo - Burning the Bridge to No...   \n",
       "35910   143359                                  Sly Cooper (2016)   \n",
       "48312   171793                       Innocence Unprotected (1968)   \n",
       "51989   179783                          Let There Be Light (2017)   \n",
       "53506   183161                                  Journeyman (2018)   \n",
       "\n",
       "                                           genres  \n",
       "15630                               Drama|Fantasy  \n",
       "16829                                Comedy|Drama  \n",
       "19711                                 Documentary  \n",
       "19983                               Comedy|Horror  \n",
       "26655                                 Documentary  \n",
       "31571                                      Comedy  \n",
       "35910  Action|Adventure|Animation|Children|Comedy  \n",
       "48312                           Documentary|Drama  \n",
       "51989                          (no genres listed)  \n",
       "53506                                       Drama  "
      ]
     },
     "execution_count": 150,
     "metadata": {},
     "output_type": "execute_result"
    }
   ],
   "source": [
    "movie_recommendation(user_recommendation, 1548, movies_pd)"
   ]
  },
  {
   "cell_type": "markdown",
   "metadata": {},
   "source": [
    "### <a class=\"anchor\" id=\"Content-based-Recommendation\">Part V : Content based Recommendation</a>"
   ]
  },
  {
   "cell_type": "code",
   "execution_count": 151,
   "metadata": {},
   "outputs": [],
   "source": [
    "item_factors = best_model.itemFactors"
   ]
  },
  {
   "cell_type": "code",
   "execution_count": 152,
   "metadata": {},
   "outputs": [],
   "source": [
    "movie_factors = item_factors.toPandas()"
   ]
  },
  {
   "cell_type": "code",
   "execution_count": 156,
   "metadata": {},
   "outputs": [
    {
     "data": {
      "text/html": [
       "<div>\n",
       "<style scoped>\n",
       "    .dataframe tbody tr th:only-of-type {\n",
       "        vertical-align: middle;\n",
       "    }\n",
       "\n",
       "    .dataframe tbody tr th {\n",
       "        vertical-align: top;\n",
       "    }\n",
       "\n",
       "    .dataframe thead th {\n",
       "        text-align: right;\n",
       "    }\n",
       "</style>\n",
       "<table border=\"1\" class=\"dataframe\">\n",
       "  <thead>\n",
       "    <tr style=\"text-align: right;\">\n",
       "      <th></th>\n",
       "      <th>id</th>\n",
       "      <th>features</th>\n",
       "    </tr>\n",
       "  </thead>\n",
       "  <tbody>\n",
       "    <tr>\n",
       "      <th>0</th>\n",
       "      <td>10</td>\n",
       "      <td>[-0.11370401084423065, 0.15865005552768707, -0...</td>\n",
       "    </tr>\n",
       "    <tr>\n",
       "      <th>1</th>\n",
       "      <td>20</td>\n",
       "      <td>[-0.05457412078976631, 0.3406473994255066, 0.0...</td>\n",
       "    </tr>\n",
       "    <tr>\n",
       "      <th>2</th>\n",
       "      <td>30</td>\n",
       "      <td>[-0.8314056396484375, 0.026998208835721016, -0...</td>\n",
       "    </tr>\n",
       "    <tr>\n",
       "      <th>3</th>\n",
       "      <td>40</td>\n",
       "      <td>[-0.45061567425727844, 0.36178773641586304, -0...</td>\n",
       "    </tr>\n",
       "    <tr>\n",
       "      <th>4</th>\n",
       "      <td>50</td>\n",
       "      <td>[-0.38117992877960205, -0.1412842720746994, -0...</td>\n",
       "    </tr>\n",
       "  </tbody>\n",
       "</table>\n",
       "</div>"
      ],
      "text/plain": [
       "   id                                           features\n",
       "0  10  [-0.11370401084423065, 0.15865005552768707, -0...\n",
       "1  20  [-0.05457412078976631, 0.3406473994255066, 0.0...\n",
       "2  30  [-0.8314056396484375, 0.026998208835721016, -0...\n",
       "3  40  [-0.45061567425727844, 0.36178773641586304, -0...\n",
       "4  50  [-0.38117992877960205, -0.1412842720746994, -0..."
      ]
     },
     "execution_count": 156,
     "metadata": {},
     "output_type": "execute_result"
    }
   ],
   "source": [
    "movie_factors.head()"
   ]
  },
  {
   "cell_type": "code",
   "execution_count": 159,
   "metadata": {},
   "outputs": [
    {
     "data": {
      "text/plain": [
       "[-3.0600008964538574,\n",
       " 5.076108455657959,\n",
       " -0.8191145658493042,\n",
       " -1.7454273700714111,\n",
       " -2.7825307846069336]"
      ]
     },
     "execution_count": 159,
     "metadata": {},
     "output_type": "execute_result"
    }
   ],
   "source": [
    "movie_factors.loc[movie_factors.id == 79236].features.to_numpy()[0]"
   ]
  },
  {
   "cell_type": "code",
   "execution_count": 160,
   "metadata": {},
   "outputs": [],
   "source": [
    "def similar_movies(features, movieId):\n",
    "\n",
    "    try: \n",
    "        target_id_feature = movie_factors.loc[movie_factors.id == movieId].features.to_numpy()[0]\n",
    "    except:\n",
    "        return 'There is no movie with id ' + str(movieId)\n",
    "\n",
    "    similarities = []\n",
    "    for feature in movie_factors['features'].to_numpy():\n",
    "        similarity = np.dot(target_id_feature,feature)/(np.linalg.norm(target_id_feature) * np.linalg.norm(feature))\n",
    "        similarities.append(similarity)\n",
    "\n",
    "    pd_similarity = pd.DataFrame({'similarity' : similarities}, index = movie_factors.id.to_numpy())\n",
    "    # top 11 similar movies contain the movie itself with similarity = 1, so I need to remove it. \n",
    "    top_11 = pd_similarity.sort_values(by = ['similarity'], ascending = False).head(11)\n",
    "    joint = top_11.merge(movies_pd, left_index=True, right_on = 'movieId', how = 'inner')\n",
    "    joint.sort_values(by = ['similarity'], ascending = False,inplace = True)\n",
    "    joint.reset_index(inplace = True)\n",
    "    # take top 10 similar movies\n",
    "    return joint.loc[1:,['movieId','title','genres']]"
   ]
  },
  {
   "cell_type": "code",
   "execution_count": 162,
   "metadata": {},
   "outputs": [
    {
     "data": {
      "text/html": [
       "<div>\n",
       "<style scoped>\n",
       "    .dataframe tbody tr th:only-of-type {\n",
       "        vertical-align: middle;\n",
       "    }\n",
       "\n",
       "    .dataframe tbody tr th {\n",
       "        vertical-align: top;\n",
       "    }\n",
       "\n",
       "    .dataframe thead th {\n",
       "        text-align: right;\n",
       "    }\n",
       "</style>\n",
       "<table border=\"1\" class=\"dataframe\">\n",
       "  <thead>\n",
       "    <tr style=\"text-align: right;\">\n",
       "      <th></th>\n",
       "      <th>movieId</th>\n",
       "      <th>title</th>\n",
       "      <th>genres</th>\n",
       "    </tr>\n",
       "  </thead>\n",
       "  <tbody>\n",
       "    <tr>\n",
       "      <th>1</th>\n",
       "      <td>84232</td>\n",
       "      <td>Love Nest, The (1923)</td>\n",
       "      <td>Comedy</td>\n",
       "    </tr>\n",
       "    <tr>\n",
       "      <th>2</th>\n",
       "      <td>30820</td>\n",
       "      <td>Woodsman, The (2004)</td>\n",
       "      <td>Drama</td>\n",
       "    </tr>\n",
       "    <tr>\n",
       "      <th>3</th>\n",
       "      <td>2769</td>\n",
       "      <td>Yards, The (2000)</td>\n",
       "      <td>Crime|Drama</td>\n",
       "    </tr>\n",
       "    <tr>\n",
       "      <th>4</th>\n",
       "      <td>5570</td>\n",
       "      <td>Thesis (Tesis) (1996)</td>\n",
       "      <td>Drama|Horror|Thriller</td>\n",
       "    </tr>\n",
       "    <tr>\n",
       "      <th>5</th>\n",
       "      <td>113829</td>\n",
       "      <td>One I Love, The (2014)</td>\n",
       "      <td>Comedy|Drama|Romance</td>\n",
       "    </tr>\n",
       "    <tr>\n",
       "      <th>6</th>\n",
       "      <td>71691</td>\n",
       "      <td>Fifty Dead Men Walking (2008)</td>\n",
       "      <td>Action|Drama|Thriller</td>\n",
       "    </tr>\n",
       "    <tr>\n",
       "      <th>7</th>\n",
       "      <td>6283</td>\n",
       "      <td>Cowboy Bebop: The Movie (Cowboy Bebop: Tengoku...</td>\n",
       "      <td>Action|Animation|Sci-Fi|Thriller</td>\n",
       "    </tr>\n",
       "    <tr>\n",
       "      <th>8</th>\n",
       "      <td>162882</td>\n",
       "      <td>I Am Not a Serial Killer (2016)</td>\n",
       "      <td>Thriller</td>\n",
       "    </tr>\n",
       "    <tr>\n",
       "      <th>9</th>\n",
       "      <td>37653</td>\n",
       "      <td>Zozo (2005)</td>\n",
       "      <td>Drama</td>\n",
       "    </tr>\n",
       "    <tr>\n",
       "      <th>10</th>\n",
       "      <td>66156</td>\n",
       "      <td>Escapist, The (2008)</td>\n",
       "      <td>Thriller</td>\n",
       "    </tr>\n",
       "  </tbody>\n",
       "</table>\n",
       "</div>"
      ],
      "text/plain": [
       "    movieId                                              title  \\\n",
       "1     84232                              Love Nest, The (1923)   \n",
       "2     30820                               Woodsman, The (2004)   \n",
       "3      2769                                  Yards, The (2000)   \n",
       "4      5570                              Thesis (Tesis) (1996)   \n",
       "5    113829                             One I Love, The (2014)   \n",
       "6     71691                      Fifty Dead Men Walking (2008)   \n",
       "7      6283  Cowboy Bebop: The Movie (Cowboy Bebop: Tengoku...   \n",
       "8    162882                    I Am Not a Serial Killer (2016)   \n",
       "9     37653                                        Zozo (2005)   \n",
       "10    66156                               Escapist, The (2008)   \n",
       "\n",
       "                              genres  \n",
       "1                             Comedy  \n",
       "2                              Drama  \n",
       "3                        Crime|Drama  \n",
       "4              Drama|Horror|Thriller  \n",
       "5               Comedy|Drama|Romance  \n",
       "6              Action|Drama|Thriller  \n",
       "7   Action|Animation|Sci-Fi|Thriller  \n",
       "8                           Thriller  \n",
       "9                              Drama  \n",
       "10                          Thriller  "
      ]
     },
     "execution_count": 162,
     "metadata": {},
     "output_type": "execute_result"
    }
   ],
   "source": [
    "similar_movies(features = movie_factors['features'], movieId = 471)"
   ]
  },
  {
   "cell_type": "code",
   "execution_count": null,
   "metadata": {},
   "outputs": [],
   "source": []
  }
 ],
 "metadata": {
  "kernelspec": {
   "display_name": "Python 3.6 with Spark",
   "language": "python3",
   "name": "python36"
  },
  "language_info": {
   "codemirror_mode": {
    "name": "ipython",
    "version": 3
   },
   "file_extension": ".py",
   "mimetype": "text/x-python",
   "name": "python",
   "nbconvert_exporter": "python",
   "pygments_lexer": "ipython3",
   "version": "3.6.8"
  }
 },
 "nbformat": 4,
 "nbformat_minor": 1
}
